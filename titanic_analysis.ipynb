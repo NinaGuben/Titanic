{
 "cells": [
  {
   "cell_type": "markdown",
   "metadata": {},
   "source": [
    "Analysis of the titanic dataset"
   ]
  },
  {
   "cell_type": "code",
   "execution_count": 11,
   "metadata": {},
   "outputs": [],
   "source": [
    "# import Python libraries \n",
    "import pandas as pd\n",
    "import seaborn as sns\n",
    "import matplotlib.pyplot as plt\n"
   ]
  },
  {
   "cell_type": "code",
   "execution_count": 12,
   "metadata": {},
   "outputs": [
    {
     "name": "stdout",
     "output_type": "stream",
     "text": [
      "     survived  pclass     sex   age  sibsp  parch     fare embarked   class  \\\n",
      "0           0       3    male  22.0      1      0   7.2500        S   Third   \n",
      "1           1       1  female  38.0      1      0  71.2833        C   First   \n",
      "2           1       3  female  26.0      0      0   7.9250        S   Third   \n",
      "3           1       1  female  35.0      1      0  53.1000        S   First   \n",
      "4           0       3    male  35.0      0      0   8.0500        S   Third   \n",
      "..        ...     ...     ...   ...    ...    ...      ...      ...     ...   \n",
      "886         0       2    male  27.0      0      0  13.0000        S  Second   \n",
      "887         1       1  female  19.0      0      0  30.0000        S   First   \n",
      "888         0       3  female   NaN      1      2  23.4500        S   Third   \n",
      "889         1       1    male  26.0      0      0  30.0000        C   First   \n",
      "890         0       3    male  32.0      0      0   7.7500        Q   Third   \n",
      "\n",
      "       who  adult_male deck  embark_town alive  alone  \n",
      "0      man        True  NaN  Southampton    no  False  \n",
      "1    woman       False    C    Cherbourg   yes  False  \n",
      "2    woman       False  NaN  Southampton   yes   True  \n",
      "3    woman       False    C  Southampton   yes  False  \n",
      "4      man        True  NaN  Southampton    no   True  \n",
      "..     ...         ...  ...          ...   ...    ...  \n",
      "886    man        True  NaN  Southampton    no   True  \n",
      "887  woman       False    B  Southampton   yes   True  \n",
      "888  woman       False  NaN  Southampton    no  False  \n",
      "889    man        True    C    Cherbourg   yes   True  \n",
      "890    man        True  NaN   Queenstown    no   True  \n",
      "\n",
      "[891 rows x 15 columns] None\n"
     ]
    }
   ],
   "source": [
    "# load the titanic dataset from the seaborn library and print all columns\n",
    "\n",
    "titanic = sns.load_dataset('titanic')\n",
    "print(titanic, pd.set_option('display.max_columns', None))"
   ]
  },
  {
   "cell_type": "code",
   "execution_count": 15,
   "metadata": {},
   "outputs": [
    {
     "name": "stdout",
     "output_type": "stream",
     "text": [
      "     survived  pclass     sex   age  sibsp  parch     fare   class deck  \\\n",
      "0           0       3    male  22.0      1      0   7.2500   Third  NaN   \n",
      "1           1       1  female  38.0      1      0  71.2833   First    C   \n",
      "2           1       3  female  26.0      0      0   7.9250   Third  NaN   \n",
      "3           1       1  female  35.0      1      0  53.1000   First    C   \n",
      "4           0       3    male  35.0      0      0   8.0500   Third  NaN   \n",
      "..        ...     ...     ...   ...    ...    ...      ...     ...  ...   \n",
      "886         0       2    male  27.0      0      0  13.0000  Second  NaN   \n",
      "887         1       1  female  19.0      0      0  30.0000   First    B   \n",
      "888         0       3  female   NaN      1      2  23.4500   Third  NaN   \n",
      "889         1       1    male  26.0      0      0  30.0000   First    C   \n",
      "890         0       3    male  32.0      0      0   7.7500   Third  NaN   \n",
      "\n",
      "     embark_town alive  alone  \n",
      "0    Southampton    no  False  \n",
      "1      Cherbourg   yes  False  \n",
      "2    Southampton   yes   True  \n",
      "3    Southampton   yes  False  \n",
      "4    Southampton    no   True  \n",
      "..           ...   ...    ...  \n",
      "886  Southampton    no   True  \n",
      "887  Southampton   yes   True  \n",
      "888  Southampton    no  False  \n",
      "889    Cherbourg   yes   True  \n",
      "890   Queenstown    no   True  \n",
      "\n",
      "[891 rows x 12 columns] None\n"
     ]
    }
   ],
   "source": [
    "# there are columns which can be filtered e.g. 'adult_male', 'embarked' and 'who'\n",
    "titanic_filtered = titanic.drop(columns = ['adult_male', 'embarked', 'who'])\n",
    "print(titanic_filtered, pd.set_option('display.max_columns', None))"
   ]
  }
 ],
 "metadata": {
  "kernelspec": {
   "display_name": "Python 3",
   "language": "python",
   "name": "python3"
  },
  "language_info": {
   "codemirror_mode": {
    "name": "ipython",
    "version": 3
   },
   "file_extension": ".py",
   "mimetype": "text/x-python",
   "name": "python",
   "nbconvert_exporter": "python",
   "pygments_lexer": "ipython3",
   "version": "3.13.1"
  }
 },
 "nbformat": 4,
 "nbformat_minor": 2
}
